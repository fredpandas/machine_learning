{
 "cells": [
  {
   "cell_type": "markdown",
   "metadata": {},
   "source": [
    "<b><center><blockquote style=\"background-color:pink\">Algorithme de regroupement en grappes"
   ]
  },
  {
   "cell_type": "markdown",
   "metadata": {},
   "source": [
    "<blockquote style=\"background-color:SkyBlue\">Préparation du fichier"
   ]
  },
  {
   "cell_type": "code",
   "execution_count": 1,
   "metadata": {
    "collapsed": true
   },
   "outputs": [],
   "source": [
    "import pandas as pa\n",
    "import pylab as pl\n",
    "import numpy as np"
   ]
  },
  {
   "cell_type": "code",
   "execution_count": 2,
   "metadata": {},
   "outputs": [
    {
     "data": {
      "text/html": [
       "<div>\n",
       "<style>\n",
       "    .dataframe thead tr:only-child th {\n",
       "        text-align: right;\n",
       "    }\n",
       "\n",
       "    .dataframe thead th {\n",
       "        text-align: left;\n",
       "    }\n",
       "\n",
       "    .dataframe tbody tr th {\n",
       "        vertical-align: top;\n",
       "    }\n",
       "</style>\n",
       "<table border=\"1\" class=\"dataframe\">\n",
       "  <thead>\n",
       "    <tr style=\"text-align: right;\">\n",
       "      <th></th>\n",
       "      <th>JOUR</th>\n",
       "      <th>O3obs</th>\n",
       "      <th>MOCAGE</th>\n",
       "      <th>TEMPE</th>\n",
       "      <th>RMH2O</th>\n",
       "      <th>NO2</th>\n",
       "      <th>NO</th>\n",
       "      <th>STATION</th>\n",
       "      <th>VentMOD</th>\n",
       "      <th>VentANG</th>\n",
       "    </tr>\n",
       "  </thead>\n",
       "  <tbody>\n",
       "    <tr>\n",
       "      <th>0</th>\n",
       "      <td>1</td>\n",
       "      <td>91</td>\n",
       "      <td>93.2</td>\n",
       "      <td>21.5</td>\n",
       "      <td>0.00847</td>\n",
       "      <td>1.602</td>\n",
       "      <td>0.424</td>\n",
       "      <td>Aix</td>\n",
       "      <td>9.5000</td>\n",
       "      <td>-0.64350</td>\n",
       "    </tr>\n",
       "    <tr>\n",
       "      <th>1</th>\n",
       "      <td>1</td>\n",
       "      <td>100</td>\n",
       "      <td>104.6</td>\n",
       "      <td>20.2</td>\n",
       "      <td>0.00881</td>\n",
       "      <td>2.121</td>\n",
       "      <td>0.531</td>\n",
       "      <td>Aix</td>\n",
       "      <td>8.0100</td>\n",
       "      <td>-0.04996</td>\n",
       "    </tr>\n",
       "    <tr>\n",
       "      <th>2</th>\n",
       "      <td>0</td>\n",
       "      <td>82</td>\n",
       "      <td>103.6</td>\n",
       "      <td>17.4</td>\n",
       "      <td>0.00951</td>\n",
       "      <td>1.657</td>\n",
       "      <td>0.467</td>\n",
       "      <td>Aix</td>\n",
       "      <td>9.3771</td>\n",
       "      <td>-0.12832</td>\n",
       "    </tr>\n",
       "    <tr>\n",
       "      <th>3</th>\n",
       "      <td>0</td>\n",
       "      <td>94</td>\n",
       "      <td>94.8</td>\n",
       "      <td>18.8</td>\n",
       "      <td>0.00855</td>\n",
       "      <td>2.350</td>\n",
       "      <td>0.701</td>\n",
       "      <td>Aix</td>\n",
       "      <td>9.4578</td>\n",
       "      <td>-0.34516</td>\n",
       "    </tr>\n",
       "    <tr>\n",
       "      <th>4</th>\n",
       "      <td>0</td>\n",
       "      <td>107</td>\n",
       "      <td>99.0</td>\n",
       "      <td>23.7</td>\n",
       "      <td>0.00731</td>\n",
       "      <td>1.653</td>\n",
       "      <td>0.452</td>\n",
       "      <td>Aix</td>\n",
       "      <td>7.8791</td>\n",
       "      <td>-0.41822</td>\n",
       "    </tr>\n",
       "  </tbody>\n",
       "</table>\n",
       "</div>"
      ],
      "text/plain": [
       "   JOUR  O3obs  MOCAGE  TEMPE    RMH2O    NO2     NO STATION  VentMOD  VentANG\n",
       "0     1     91    93.2   21.5  0.00847  1.602  0.424     Aix   9.5000 -0.64350\n",
       "1     1    100   104.6   20.2  0.00881  2.121  0.531     Aix   8.0100 -0.04996\n",
       "2     0     82   103.6   17.4  0.00951  1.657  0.467     Aix   9.3771 -0.12832\n",
       "3     0     94    94.8   18.8  0.00855  2.350  0.701     Aix   9.4578 -0.34516\n",
       "4     0    107    99.0   23.7  0.00731  1.653  0.452     Aix   7.8791 -0.41822"
      ]
     },
     "execution_count": 2,
     "metadata": {},
     "output_type": "execute_result"
    }
   ],
   "source": [
    "T1=pa.read_csv('ozo.csv',sep=\",\",header=0)\n",
    "T1.head()"
   ]
  },
  {
   "cell_type": "code",
   "execution_count": 3,
   "metadata": {},
   "outputs": [
    {
     "data": {
      "text/html": [
       "<div>\n",
       "<style>\n",
       "    .dataframe thead tr:only-child th {\n",
       "        text-align: right;\n",
       "    }\n",
       "\n",
       "    .dataframe thead th {\n",
       "        text-align: left;\n",
       "    }\n",
       "\n",
       "    .dataframe tbody tr th {\n",
       "        vertical-align: top;\n",
       "    }\n",
       "</style>\n",
       "<table border=\"1\" class=\"dataframe\">\n",
       "  <thead>\n",
       "    <tr style=\"text-align: right;\">\n",
       "      <th></th>\n",
       "      <th>JOUR</th>\n",
       "      <th>O3obs</th>\n",
       "      <th>MOCAGE</th>\n",
       "      <th>TEMPE</th>\n",
       "      <th>RMH2O</th>\n",
       "      <th>NO2</th>\n",
       "      <th>NO</th>\n",
       "      <th>STATION</th>\n",
       "      <th>VentMOD</th>\n",
       "      <th>VentANG</th>\n",
       "      <th>DepSeuil</th>\n",
       "    </tr>\n",
       "  </thead>\n",
       "  <tbody>\n",
       "    <tr>\n",
       "      <th>0</th>\n",
       "      <td>1</td>\n",
       "      <td>91</td>\n",
       "      <td>93.2</td>\n",
       "      <td>21.5</td>\n",
       "      <td>0.00847</td>\n",
       "      <td>1.602</td>\n",
       "      <td>0.424</td>\n",
       "      <td>Aix</td>\n",
       "      <td>9.5000</td>\n",
       "      <td>-0.64350</td>\n",
       "      <td>False</td>\n",
       "    </tr>\n",
       "    <tr>\n",
       "      <th>1</th>\n",
       "      <td>1</td>\n",
       "      <td>100</td>\n",
       "      <td>104.6</td>\n",
       "      <td>20.2</td>\n",
       "      <td>0.00881</td>\n",
       "      <td>2.121</td>\n",
       "      <td>0.531</td>\n",
       "      <td>Aix</td>\n",
       "      <td>8.0100</td>\n",
       "      <td>-0.04996</td>\n",
       "      <td>False</td>\n",
       "    </tr>\n",
       "    <tr>\n",
       "      <th>2</th>\n",
       "      <td>0</td>\n",
       "      <td>82</td>\n",
       "      <td>103.6</td>\n",
       "      <td>17.4</td>\n",
       "      <td>0.00951</td>\n",
       "      <td>1.657</td>\n",
       "      <td>0.467</td>\n",
       "      <td>Aix</td>\n",
       "      <td>9.3771</td>\n",
       "      <td>-0.12832</td>\n",
       "      <td>False</td>\n",
       "    </tr>\n",
       "    <tr>\n",
       "      <th>3</th>\n",
       "      <td>0</td>\n",
       "      <td>94</td>\n",
       "      <td>94.8</td>\n",
       "      <td>18.8</td>\n",
       "      <td>0.00855</td>\n",
       "      <td>2.350</td>\n",
       "      <td>0.701</td>\n",
       "      <td>Aix</td>\n",
       "      <td>9.4578</td>\n",
       "      <td>-0.34516</td>\n",
       "      <td>False</td>\n",
       "    </tr>\n",
       "    <tr>\n",
       "      <th>4</th>\n",
       "      <td>0</td>\n",
       "      <td>107</td>\n",
       "      <td>99.0</td>\n",
       "      <td>23.7</td>\n",
       "      <td>0.00731</td>\n",
       "      <td>1.653</td>\n",
       "      <td>0.452</td>\n",
       "      <td>Aix</td>\n",
       "      <td>7.8791</td>\n",
       "      <td>-0.41822</td>\n",
       "      <td>False</td>\n",
       "    </tr>\n",
       "  </tbody>\n",
       "</table>\n",
       "</div>"
      ],
      "text/plain": [
       "   JOUR  O3obs  MOCAGE  TEMPE    RMH2O    NO2     NO STATION  VentMOD  \\\n",
       "0     1     91    93.2   21.5  0.00847  1.602  0.424     Aix   9.5000   \n",
       "1     1    100   104.6   20.2  0.00881  2.121  0.531     Aix   8.0100   \n",
       "2     0     82   103.6   17.4  0.00951  1.657  0.467     Aix   9.3771   \n",
       "3     0     94    94.8   18.8  0.00855  2.350  0.701     Aix   9.4578   \n",
       "4     0    107    99.0   23.7  0.00731  1.653  0.452     Aix   7.8791   \n",
       "\n",
       "   VentANG  DepSeuil  \n",
       "0 -0.64350     False  \n",
       "1 -0.04996     False  \n",
       "2 -0.12832     False  \n",
       "3 -0.34516     False  \n",
       "4 -0.41822     False  "
      ]
     },
     "execution_count": 3,
     "metadata": {},
     "output_type": "execute_result"
    }
   ],
   "source": [
    "T1[\"DepSeuil\"]=T1[\"O3obs\"].map(lambda x: x > 150)\n",
    "T1.head()"
   ]
  },
  {
   "cell_type": "code",
   "execution_count": 4,
   "metadata": {},
   "outputs": [
    {
     "data": {
      "text/html": [
       "<div>\n",
       "<style>\n",
       "    .dataframe thead tr:only-child th {\n",
       "        text-align: right;\n",
       "    }\n",
       "\n",
       "    .dataframe thead th {\n",
       "        text-align: left;\n",
       "    }\n",
       "\n",
       "    .dataframe tbody tr th {\n",
       "        vertical-align: top;\n",
       "    }\n",
       "</style>\n",
       "<table border=\"1\" class=\"dataframe\">\n",
       "  <thead>\n",
       "    <tr style=\"text-align: right;\">\n",
       "      <th></th>\n",
       "      <th>TEMPE</th>\n",
       "      <th>RMH2O</th>\n",
       "      <th>NO2</th>\n",
       "      <th>NO</th>\n",
       "      <th>VentMOD</th>\n",
       "      <th>VentANG</th>\n",
       "    </tr>\n",
       "  </thead>\n",
       "  <tbody>\n",
       "    <tr>\n",
       "      <th>0</th>\n",
       "      <td>21.5</td>\n",
       "      <td>0.00847</td>\n",
       "      <td>1.602</td>\n",
       "      <td>0.424</td>\n",
       "      <td>9.5000</td>\n",
       "      <td>-0.64350</td>\n",
       "    </tr>\n",
       "    <tr>\n",
       "      <th>1</th>\n",
       "      <td>20.2</td>\n",
       "      <td>0.00881</td>\n",
       "      <td>2.121</td>\n",
       "      <td>0.531</td>\n",
       "      <td>8.0100</td>\n",
       "      <td>-0.04996</td>\n",
       "    </tr>\n",
       "    <tr>\n",
       "      <th>2</th>\n",
       "      <td>17.4</td>\n",
       "      <td>0.00951</td>\n",
       "      <td>1.657</td>\n",
       "      <td>0.467</td>\n",
       "      <td>9.3771</td>\n",
       "      <td>-0.12832</td>\n",
       "    </tr>\n",
       "    <tr>\n",
       "      <th>3</th>\n",
       "      <td>18.8</td>\n",
       "      <td>0.00855</td>\n",
       "      <td>2.350</td>\n",
       "      <td>0.701</td>\n",
       "      <td>9.4578</td>\n",
       "      <td>-0.34516</td>\n",
       "    </tr>\n",
       "    <tr>\n",
       "      <th>4</th>\n",
       "      <td>23.7</td>\n",
       "      <td>0.00731</td>\n",
       "      <td>1.653</td>\n",
       "      <td>0.452</td>\n",
       "      <td>7.8791</td>\n",
       "      <td>-0.41822</td>\n",
       "    </tr>\n",
       "  </tbody>\n",
       "</table>\n",
       "</div>"
      ],
      "text/plain": [
       "   TEMPE    RMH2O    NO2     NO  VentMOD  VentANG\n",
       "0   21.5  0.00847  1.602  0.424   9.5000 -0.64350\n",
       "1   20.2  0.00881  2.121  0.531   8.0100 -0.04996\n",
       "2   17.4  0.00951  1.657  0.467   9.3771 -0.12832\n",
       "3   18.8  0.00855  2.350  0.701   9.4578 -0.34516\n",
       "4   23.7  0.00731  1.653  0.452   7.8791 -0.41822"
      ]
     },
     "execution_count": 4,
     "metadata": {},
     "output_type": "execute_result"
    }
   ],
   "source": [
    "T2=pa.concat([T1[\"TEMPE\"],T1[\"RMH2O\"],T1[\"NO2\"],T1[\"NO\"],T1[\"VentMOD\"],T1[\"VentANG\"]],axis=1)\n",
    "T2.head()"
   ]
  },
  {
   "cell_type": "code",
   "execution_count": 5,
   "metadata": {
    "collapsed": true
   },
   "outputs": [],
   "source": [
    "std=T2.std()\n",
    "Moy=T2.mean()"
   ]
  },
  {
   "cell_type": "code",
   "execution_count": 6,
   "metadata": {},
   "outputs": [
    {
     "data": {
      "text/html": [
       "<div>\n",
       "<style>\n",
       "    .dataframe thead tr:only-child th {\n",
       "        text-align: right;\n",
       "    }\n",
       "\n",
       "    .dataframe thead th {\n",
       "        text-align: left;\n",
       "    }\n",
       "\n",
       "    .dataframe tbody tr th {\n",
       "        vertical-align: top;\n",
       "    }\n",
       "</style>\n",
       "<table border=\"1\" class=\"dataframe\">\n",
       "  <thead>\n",
       "    <tr style=\"text-align: right;\">\n",
       "      <th></th>\n",
       "      <th>TEMPE</th>\n",
       "      <th>RMH2O</th>\n",
       "      <th>NO2</th>\n",
       "      <th>NO</th>\n",
       "      <th>VentMOD</th>\n",
       "      <th>VentANG</th>\n",
       "    </tr>\n",
       "  </thead>\n",
       "  <tbody>\n",
       "    <tr>\n",
       "      <th>0</th>\n",
       "      <td>-0.456809</td>\n",
       "      <td>-0.477180</td>\n",
       "      <td>-0.470566</td>\n",
       "      <td>-0.276502</td>\n",
       "      <td>1.176311</td>\n",
       "      <td>-1.138817</td>\n",
       "    </tr>\n",
       "    <tr>\n",
       "      <th>1</th>\n",
       "      <td>-0.705972</td>\n",
       "      <td>-0.386063</td>\n",
       "      <td>-0.342206</td>\n",
       "      <td>-0.149751</td>\n",
       "      <td>0.688475</td>\n",
       "      <td>-0.300825</td>\n",
       "    </tr>\n",
       "    <tr>\n",
       "      <th>2</th>\n",
       "      <td>-1.242631</td>\n",
       "      <td>-0.198468</td>\n",
       "      <td>-0.456964</td>\n",
       "      <td>-0.225564</td>\n",
       "      <td>1.136073</td>\n",
       "      <td>-0.411458</td>\n",
       "    </tr>\n",
       "    <tr>\n",
       "      <th>3</th>\n",
       "      <td>-0.974302</td>\n",
       "      <td>-0.455740</td>\n",
       "      <td>-0.285569</td>\n",
       "      <td>0.051628</td>\n",
       "      <td>1.162494</td>\n",
       "      <td>-0.717604</td>\n",
       "    </tr>\n",
       "    <tr>\n",
       "      <th>4</th>\n",
       "      <td>-0.035148</td>\n",
       "      <td>-0.788050</td>\n",
       "      <td>-0.457953</td>\n",
       "      <td>-0.243333</td>\n",
       "      <td>0.645618</td>\n",
       "      <td>-0.820754</td>\n",
       "    </tr>\n",
       "  </tbody>\n",
       "</table>\n",
       "</div>"
      ],
      "text/plain": [
       "      TEMPE     RMH2O       NO2        NO   VentMOD   VentANG\n",
       "0 -0.456809 -0.477180 -0.470566 -0.276502  1.176311 -1.138817\n",
       "1 -0.705972 -0.386063 -0.342206 -0.149751  0.688475 -0.300825\n",
       "2 -1.242631 -0.198468 -0.456964 -0.225564  1.136073 -0.411458\n",
       "3 -0.974302 -0.455740 -0.285569  0.051628  1.162494 -0.717604\n",
       "4 -0.035148 -0.788050 -0.457953 -0.243333  0.645618 -0.820754"
      ]
     },
     "execution_count": 6,
     "metadata": {},
     "output_type": "execute_result"
    }
   ],
   "source": [
    "T3=(T2-Moy)/std\n",
    "T3.head()"
   ]
  },
  {
   "cell_type": "code",
   "execution_count": 7,
   "metadata": {},
   "outputs": [
    {
     "data": {
      "text/html": [
       "<div>\n",
       "<style>\n",
       "    .dataframe thead tr:only-child th {\n",
       "        text-align: right;\n",
       "    }\n",
       "\n",
       "    .dataframe thead th {\n",
       "        text-align: left;\n",
       "    }\n",
       "\n",
       "    .dataframe tbody tr th {\n",
       "        vertical-align: top;\n",
       "    }\n",
       "</style>\n",
       "<table border=\"1\" class=\"dataframe\">\n",
       "  <thead>\n",
       "    <tr style=\"text-align: right;\">\n",
       "      <th></th>\n",
       "      <th>TEMPE</th>\n",
       "      <th>RMH2O</th>\n",
       "      <th>NO2</th>\n",
       "      <th>NO</th>\n",
       "      <th>VentMOD</th>\n",
       "      <th>VentANG</th>\n",
       "      <th>DepSeuil</th>\n",
       "    </tr>\n",
       "  </thead>\n",
       "  <tbody>\n",
       "    <tr>\n",
       "      <th>0</th>\n",
       "      <td>-0.456809</td>\n",
       "      <td>-0.477180</td>\n",
       "      <td>-0.470566</td>\n",
       "      <td>-0.276502</td>\n",
       "      <td>1.176311</td>\n",
       "      <td>-1.138817</td>\n",
       "      <td>False</td>\n",
       "    </tr>\n",
       "    <tr>\n",
       "      <th>1</th>\n",
       "      <td>-0.705972</td>\n",
       "      <td>-0.386063</td>\n",
       "      <td>-0.342206</td>\n",
       "      <td>-0.149751</td>\n",
       "      <td>0.688475</td>\n",
       "      <td>-0.300825</td>\n",
       "      <td>False</td>\n",
       "    </tr>\n",
       "    <tr>\n",
       "      <th>2</th>\n",
       "      <td>-1.242631</td>\n",
       "      <td>-0.198468</td>\n",
       "      <td>-0.456964</td>\n",
       "      <td>-0.225564</td>\n",
       "      <td>1.136073</td>\n",
       "      <td>-0.411458</td>\n",
       "      <td>False</td>\n",
       "    </tr>\n",
       "    <tr>\n",
       "      <th>3</th>\n",
       "      <td>-0.974302</td>\n",
       "      <td>-0.455740</td>\n",
       "      <td>-0.285569</td>\n",
       "      <td>0.051628</td>\n",
       "      <td>1.162494</td>\n",
       "      <td>-0.717604</td>\n",
       "      <td>False</td>\n",
       "    </tr>\n",
       "    <tr>\n",
       "      <th>4</th>\n",
       "      <td>-0.035148</td>\n",
       "      <td>-0.788050</td>\n",
       "      <td>-0.457953</td>\n",
       "      <td>-0.243333</td>\n",
       "      <td>0.645618</td>\n",
       "      <td>-0.820754</td>\n",
       "      <td>False</td>\n",
       "    </tr>\n",
       "  </tbody>\n",
       "</table>\n",
       "</div>"
      ],
      "text/plain": [
       "      TEMPE     RMH2O       NO2        NO   VentMOD   VentANG  DepSeuil\n",
       "0 -0.456809 -0.477180 -0.470566 -0.276502  1.176311 -1.138817     False\n",
       "1 -0.705972 -0.386063 -0.342206 -0.149751  0.688475 -0.300825     False\n",
       "2 -1.242631 -0.198468 -0.456964 -0.225564  1.136073 -0.411458     False\n",
       "3 -0.974302 -0.455740 -0.285569  0.051628  1.162494 -0.717604     False\n",
       "4 -0.035148 -0.788050 -0.457953 -0.243333  0.645618 -0.820754     False"
      ]
     },
     "execution_count": 7,
     "metadata": {},
     "output_type": "execute_result"
    }
   ],
   "source": [
    "T3[\"DepSeuil\"]=T1[\"DepSeuil\"]\n",
    "T3.head()"
   ]
  },
  {
   "cell_type": "code",
   "execution_count": 20,
   "metadata": {},
   "outputs": [
    {
     "data": {
      "text/plain": [
       "Index(['TEMPE', 'RMH2O', 'NO2', 'NO', 'VentMOD', 'VentANG'], dtype='object')"
      ]
     },
     "execution_count": 20,
     "metadata": {},
     "output_type": "execute_result"
    }
   ],
   "source": [
    "L=T3.columns[:-2]\n",
    "L"
   ]
  },
  {
   "cell_type": "code",
   "execution_count": 21,
   "metadata": {
    "collapsed": true
   },
   "outputs": [],
   "source": [
    "def distance(i,j):\n",
    "    return (sum ([(T3.at[i,a]-T3.at[j,a])**2 for a in L]))**0.5"
   ]
  },
  {
   "cell_type": "markdown",
   "metadata": {},
   "source": [
    "<blockquote style=\"background-color:SkyBlue\"> choix des premiers centroides(0) au hasard"
   ]
  },
  {
   "cell_type": "code",
   "execution_count": 22,
   "metadata": {
    "collapsed": true
   },
   "outputs": [],
   "source": [
    "from random import *"
   ]
  },
  {
   "cell_type": "code",
   "execution_count": 23,
   "metadata": {
    "collapsed": true
   },
   "outputs": [],
   "source": [
    "#si on veut 5 grappes\n",
    "def choix_des_lignes(tableau):\n",
    "    N=[]\n",
    "    for i in range (5):\n",
    "        N.append(randint(0,len(tableau)))\n",
    "    return N"
   ]
  },
  {
   "cell_type": "code",
   "execution_count": 24,
   "metadata": {
    "collapsed": true
   },
   "outputs": [],
   "source": [
    "#premier regroupement en grappes\n",
    "def cluster(tableau):\n",
    "    C=[]\n",
    "    N=choix_des_lignes(tableau)\n",
    "    for i in range(len(tableau)):\n",
    "        d=[]\n",
    "        for j in range(5):\n",
    "            d.append((distance(i,N[j]),j))\n",
    "        m=min(d)\n",
    "        C.append(m[1])\n",
    "    return C  "
   ]
  },
  {
   "cell_type": "code",
   "execution_count": 25,
   "metadata": {},
   "outputs": [],
   "source": [
    "N=choix_des_lignes(T3)"
   ]
  },
  {
   "cell_type": "code",
   "execution_count": 26,
   "metadata": {},
   "outputs": [
    {
     "data": {
      "text/html": [
       "<div>\n",
       "<style>\n",
       "    .dataframe thead tr:only-child th {\n",
       "        text-align: right;\n",
       "    }\n",
       "\n",
       "    .dataframe thead th {\n",
       "        text-align: left;\n",
       "    }\n",
       "\n",
       "    .dataframe tbody tr th {\n",
       "        vertical-align: top;\n",
       "    }\n",
       "</style>\n",
       "<table border=\"1\" class=\"dataframe\">\n",
       "  <thead>\n",
       "    <tr style=\"text-align: right;\">\n",
       "      <th></th>\n",
       "      <th>TEMPE</th>\n",
       "      <th>RMH2O</th>\n",
       "      <th>NO2</th>\n",
       "      <th>NO</th>\n",
       "      <th>VentMOD</th>\n",
       "      <th>VentANG</th>\n",
       "      <th>DepSeuil</th>\n",
       "      <th>cluster</th>\n",
       "    </tr>\n",
       "  </thead>\n",
       "  <tbody>\n",
       "    <tr>\n",
       "      <th>0</th>\n",
       "      <td>-0.456809</td>\n",
       "      <td>-0.477180</td>\n",
       "      <td>-0.470566</td>\n",
       "      <td>-0.276502</td>\n",
       "      <td>1.176311</td>\n",
       "      <td>-1.138817</td>\n",
       "      <td>False</td>\n",
       "      <td>4</td>\n",
       "    </tr>\n",
       "    <tr>\n",
       "      <th>1</th>\n",
       "      <td>-0.705972</td>\n",
       "      <td>-0.386063</td>\n",
       "      <td>-0.342206</td>\n",
       "      <td>-0.149751</td>\n",
       "      <td>0.688475</td>\n",
       "      <td>-0.300825</td>\n",
       "      <td>False</td>\n",
       "      <td>4</td>\n",
       "    </tr>\n",
       "    <tr>\n",
       "      <th>2</th>\n",
       "      <td>-1.242631</td>\n",
       "      <td>-0.198468</td>\n",
       "      <td>-0.456964</td>\n",
       "      <td>-0.225564</td>\n",
       "      <td>1.136073</td>\n",
       "      <td>-0.411458</td>\n",
       "      <td>False</td>\n",
       "      <td>1</td>\n",
       "    </tr>\n",
       "    <tr>\n",
       "      <th>3</th>\n",
       "      <td>-0.974302</td>\n",
       "      <td>-0.455740</td>\n",
       "      <td>-0.285569</td>\n",
       "      <td>0.051628</td>\n",
       "      <td>1.162494</td>\n",
       "      <td>-0.717604</td>\n",
       "      <td>False</td>\n",
       "      <td>4</td>\n",
       "    </tr>\n",
       "    <tr>\n",
       "      <th>4</th>\n",
       "      <td>-0.035148</td>\n",
       "      <td>-0.788050</td>\n",
       "      <td>-0.457953</td>\n",
       "      <td>-0.243333</td>\n",
       "      <td>0.645618</td>\n",
       "      <td>-0.820754</td>\n",
       "      <td>False</td>\n",
       "      <td>4</td>\n",
       "    </tr>\n",
       "  </tbody>\n",
       "</table>\n",
       "</div>"
      ],
      "text/plain": [
       "      TEMPE     RMH2O       NO2        NO   VentMOD   VentANG  DepSeuil  \\\n",
       "0 -0.456809 -0.477180 -0.470566 -0.276502  1.176311 -1.138817     False   \n",
       "1 -0.705972 -0.386063 -0.342206 -0.149751  0.688475 -0.300825     False   \n",
       "2 -1.242631 -0.198468 -0.456964 -0.225564  1.136073 -0.411458     False   \n",
       "3 -0.974302 -0.455740 -0.285569  0.051628  1.162494 -0.717604     False   \n",
       "4 -0.035148 -0.788050 -0.457953 -0.243333  0.645618 -0.820754     False   \n",
       "\n",
       "   cluster  \n",
       "0        4  \n",
       "1        4  \n",
       "2        1  \n",
       "3        4  \n",
       "4        4  "
      ]
     },
     "execution_count": 26,
     "metadata": {},
     "output_type": "execute_result"
    }
   ],
   "source": [
    "T3[\"cluster\"]=cluster(T3)\n",
    "T3.head()"
   ]
  },
  {
   "cell_type": "markdown",
   "metadata": {},
   "source": [
    "<blockquote style=\"background-color:SkyBlue\">Variance du nuage avec ces 5 centroides(0)"
   ]
  },
  {
   "cell_type": "code",
   "execution_count": 27,
   "metadata": {
    "collapsed": true
   },
   "outputs": [],
   "source": [
    "def Var(i):\n",
    "    S=0\n",
    "    for j in range(len(T3)):\n",
    "        if T3.at[j,\"cluster\"]==i:\n",
    "            S=S+distance(j,N[i])\n",
    "    return S\n",
    "def Variance(tableau):\n",
    "    V=0\n",
    "    for i in range(5):\n",
    "        V=V+Var(i)\n",
    "    return V"
   ]
  },
  {
   "cell_type": "code",
   "execution_count": 28,
   "metadata": {},
   "outputs": [
    {
     "data": {
      "text/plain": [
       "2758.1285777793846"
      ]
     },
     "execution_count": 28,
     "metadata": {},
     "output_type": "execute_result"
    }
   ],
   "source": [
    "Variance(T3)"
   ]
  },
  {
   "cell_type": "markdown",
   "metadata": {},
   "source": [
    "<blockquote style=\"background-color:SkyBlue\">Deuxième étape : Position par le calcul des centroides(1)"
   ]
  },
  {
   "cell_type": "code",
   "execution_count": 29,
   "metadata": {
    "collapsed": true
   },
   "outputs": [],
   "source": [
    "TC0=T3.query(\"cluster==0\")\n",
    "moy0=TC0.mean()\n",
    "TC1=T3.query(\"cluster==1\")\n",
    "moy1=TC1.mean()\n",
    "TC2=T3.query(\"cluster==2\")\n",
    "moy2=TC2.mean()\n",
    "TC3=T3.query(\"cluster==3\")\n",
    "moy3=TC3.mean()\n",
    "TC4=T3.query(\"cluster==4\")\n",
    "moy4=TC4.mean()"
   ]
  },
  {
   "cell_type": "code",
   "execution_count": 30,
   "metadata": {},
   "outputs": [
    {
     "data": {
      "text/plain": [
       "array([[ 0.6684338 ,  0.09161239,  0.21545685,  0.09693264, -0.10882481,\n",
       "         0.77546025],\n",
       "       [-1.42850933,  0.05268541, -0.16564599,  0.14252767,  0.35181413,\n",
       "         0.72476848],\n",
       "       [-0.10414669, -0.97668944, -0.40519655, -0.28192689,  2.152745  ,\n",
       "        -1.09336307],\n",
       "       [-0.47582944, -0.06924205,  0.05569846,  0.08309865, -0.7165131 ,\n",
       "        -0.19332531],\n",
       "       [ 0.32819104,  0.56438733, -0.2687286 , -0.2710001 ,  0.5215596 ,\n",
       "        -0.66634851]])"
      ]
     },
     "execution_count": 30,
     "metadata": {},
     "output_type": "execute_result"
    }
   ],
   "source": [
    "import numpy as np\n",
    "C=np.array([[moy0[i]for i in range(6)],[moy1[i]for i in range(6)],[moy2[i]for i in range(6)],[moy3[i]for i in range(6)],[moy4[i]for i in range(6)]])\n",
    "C"
   ]
  },
  {
   "cell_type": "code",
   "execution_count": 31,
   "metadata": {},
   "outputs": [
    {
     "data": {
      "text/html": [
       "<div>\n",
       "<style>\n",
       "    .dataframe thead tr:only-child th {\n",
       "        text-align: right;\n",
       "    }\n",
       "\n",
       "    .dataframe thead th {\n",
       "        text-align: left;\n",
       "    }\n",
       "\n",
       "    .dataframe tbody tr th {\n",
       "        vertical-align: top;\n",
       "    }\n",
       "</style>\n",
       "<table border=\"1\" class=\"dataframe\">\n",
       "  <thead>\n",
       "    <tr style=\"text-align: right;\">\n",
       "      <th></th>\n",
       "      <th>TEMPE</th>\n",
       "      <th>RMH2O</th>\n",
       "      <th>NO2</th>\n",
       "      <th>NO</th>\n",
       "      <th>VentMOD</th>\n",
       "      <th>VentANG</th>\n",
       "    </tr>\n",
       "  </thead>\n",
       "  <tbody>\n",
       "    <tr>\n",
       "      <th>0</th>\n",
       "      <td>0.668434</td>\n",
       "      <td>0.091612</td>\n",
       "      <td>0.215457</td>\n",
       "      <td>0.096933</td>\n",
       "      <td>-0.108825</td>\n",
       "      <td>0.775460</td>\n",
       "    </tr>\n",
       "    <tr>\n",
       "      <th>1</th>\n",
       "      <td>-1.428509</td>\n",
       "      <td>0.052685</td>\n",
       "      <td>-0.165646</td>\n",
       "      <td>0.142528</td>\n",
       "      <td>0.351814</td>\n",
       "      <td>0.724768</td>\n",
       "    </tr>\n",
       "    <tr>\n",
       "      <th>2</th>\n",
       "      <td>-0.104147</td>\n",
       "      <td>-0.976689</td>\n",
       "      <td>-0.405197</td>\n",
       "      <td>-0.281927</td>\n",
       "      <td>2.152745</td>\n",
       "      <td>-1.093363</td>\n",
       "    </tr>\n",
       "    <tr>\n",
       "      <th>3</th>\n",
       "      <td>-0.475829</td>\n",
       "      <td>-0.069242</td>\n",
       "      <td>0.055698</td>\n",
       "      <td>0.083099</td>\n",
       "      <td>-0.716513</td>\n",
       "      <td>-0.193325</td>\n",
       "    </tr>\n",
       "    <tr>\n",
       "      <th>4</th>\n",
       "      <td>0.328191</td>\n",
       "      <td>0.564387</td>\n",
       "      <td>-0.268729</td>\n",
       "      <td>-0.271000</td>\n",
       "      <td>0.521560</td>\n",
       "      <td>-0.666349</td>\n",
       "    </tr>\n",
       "  </tbody>\n",
       "</table>\n",
       "</div>"
      ],
      "text/plain": [
       "      TEMPE     RMH2O       NO2        NO   VentMOD   VentANG\n",
       "0  0.668434  0.091612  0.215457  0.096933 -0.108825  0.775460\n",
       "1 -1.428509  0.052685 -0.165646  0.142528  0.351814  0.724768\n",
       "2 -0.104147 -0.976689 -0.405197 -0.281927  2.152745 -1.093363\n",
       "3 -0.475829 -0.069242  0.055698  0.083099 -0.716513 -0.193325\n",
       "4  0.328191  0.564387 -0.268729 -0.271000  0.521560 -0.666349"
      ]
     },
     "execution_count": 31,
     "metadata": {},
     "output_type": "execute_result"
    }
   ],
   "source": [
    "N1=pa.DataFrame(C,index=range(5),columns=L)\n",
    "N1"
   ]
  },
  {
   "cell_type": "markdown",
   "metadata": {},
   "source": [
    "<blockquote style=\"background-color:SkyBlue\">On réaffecte les données par rapport aux centroides(1)"
   ]
  },
  {
   "cell_type": "code",
   "execution_count": 32,
   "metadata": {
    "collapsed": true
   },
   "outputs": [],
   "source": [
    "#Pour chaque élément, on calcule la distance aux différents centroides\n",
    "def discentroide(i,j):\n",
    "    return (sum ([(T3.at[i,a]-N1.at[j,a])**2 for a in L]))**0.5"
   ]
  },
  {
   "cell_type": "code",
   "execution_count": 33,
   "metadata": {
    "collapsed": true
   },
   "outputs": [],
   "source": [
    "def cluster1(tableau):\n",
    "    C1=[]\n",
    "    for i in range(len(tableau)):\n",
    "        d=[]\n",
    "        for j in range(5):\n",
    "            d.append((discentroide(i,j),j))\n",
    "        m=min(d)\n",
    "        C1.append(m[1])\n",
    "    return C1"
   ]
  },
  {
   "cell_type": "code",
   "execution_count": 34,
   "metadata": {},
   "outputs": [
    {
     "data": {
      "text/html": [
       "<div>\n",
       "<style>\n",
       "    .dataframe thead tr:only-child th {\n",
       "        text-align: right;\n",
       "    }\n",
       "\n",
       "    .dataframe thead th {\n",
       "        text-align: left;\n",
       "    }\n",
       "\n",
       "    .dataframe tbody tr th {\n",
       "        vertical-align: top;\n",
       "    }\n",
       "</style>\n",
       "<table border=\"1\" class=\"dataframe\">\n",
       "  <thead>\n",
       "    <tr style=\"text-align: right;\">\n",
       "      <th></th>\n",
       "      <th>TEMPE</th>\n",
       "      <th>RMH2O</th>\n",
       "      <th>NO2</th>\n",
       "      <th>NO</th>\n",
       "      <th>VentMOD</th>\n",
       "      <th>VentANG</th>\n",
       "      <th>DepSeuil</th>\n",
       "      <th>cluster</th>\n",
       "      <th>cluster1</th>\n",
       "    </tr>\n",
       "  </thead>\n",
       "  <tbody>\n",
       "    <tr>\n",
       "      <th>0</th>\n",
       "      <td>-0.456809</td>\n",
       "      <td>-0.477180</td>\n",
       "      <td>-0.470566</td>\n",
       "      <td>-0.276502</td>\n",
       "      <td>1.176311</td>\n",
       "      <td>-1.138817</td>\n",
       "      <td>False</td>\n",
       "      <td>4</td>\n",
       "      <td>2</td>\n",
       "    </tr>\n",
       "    <tr>\n",
       "      <th>1</th>\n",
       "      <td>-0.705972</td>\n",
       "      <td>-0.386063</td>\n",
       "      <td>-0.342206</td>\n",
       "      <td>-0.149751</td>\n",
       "      <td>0.688475</td>\n",
       "      <td>-0.300825</td>\n",
       "      <td>False</td>\n",
       "      <td>4</td>\n",
       "      <td>1</td>\n",
       "    </tr>\n",
       "    <tr>\n",
       "      <th>2</th>\n",
       "      <td>-1.242631</td>\n",
       "      <td>-0.198468</td>\n",
       "      <td>-0.456964</td>\n",
       "      <td>-0.225564</td>\n",
       "      <td>1.136073</td>\n",
       "      <td>-0.411458</td>\n",
       "      <td>False</td>\n",
       "      <td>1</td>\n",
       "      <td>1</td>\n",
       "    </tr>\n",
       "    <tr>\n",
       "      <th>3</th>\n",
       "      <td>-0.974302</td>\n",
       "      <td>-0.455740</td>\n",
       "      <td>-0.285569</td>\n",
       "      <td>0.051628</td>\n",
       "      <td>1.162494</td>\n",
       "      <td>-0.717604</td>\n",
       "      <td>False</td>\n",
       "      <td>4</td>\n",
       "      <td>2</td>\n",
       "    </tr>\n",
       "    <tr>\n",
       "      <th>4</th>\n",
       "      <td>-0.035148</td>\n",
       "      <td>-0.788050</td>\n",
       "      <td>-0.457953</td>\n",
       "      <td>-0.243333</td>\n",
       "      <td>0.645618</td>\n",
       "      <td>-0.820754</td>\n",
       "      <td>False</td>\n",
       "      <td>4</td>\n",
       "      <td>4</td>\n",
       "    </tr>\n",
       "  </tbody>\n",
       "</table>\n",
       "</div>"
      ],
      "text/plain": [
       "      TEMPE     RMH2O       NO2        NO   VentMOD   VentANG  DepSeuil  \\\n",
       "0 -0.456809 -0.477180 -0.470566 -0.276502  1.176311 -1.138817     False   \n",
       "1 -0.705972 -0.386063 -0.342206 -0.149751  0.688475 -0.300825     False   \n",
       "2 -1.242631 -0.198468 -0.456964 -0.225564  1.136073 -0.411458     False   \n",
       "3 -0.974302 -0.455740 -0.285569  0.051628  1.162494 -0.717604     False   \n",
       "4 -0.035148 -0.788050 -0.457953 -0.243333  0.645618 -0.820754     False   \n",
       "\n",
       "   cluster  cluster1  \n",
       "0        4         2  \n",
       "1        4         1  \n",
       "2        1         1  \n",
       "3        4         2  \n",
       "4        4         4  "
      ]
     },
     "execution_count": 34,
     "metadata": {},
     "output_type": "execute_result"
    }
   ],
   "source": [
    "T3[\"cluster1\"]=cluster1(T3)\n",
    "T3.head()"
   ]
  },
  {
   "cell_type": "markdown",
   "metadata": {},
   "source": [
    "<blockquote style=\"background-color:SkyBlue\">Calcul de la variance par rapport aux centroides(1)"
   ]
  },
  {
   "cell_type": "code",
   "execution_count": 35,
   "metadata": {
    "collapsed": true
   },
   "outputs": [],
   "source": [
    "def Var1(j):\n",
    "    S=0\n",
    "    for i in range(len(T3)):\n",
    "        if T3.at[i,\"cluster1\"]==j:\n",
    "            S=S+discentroide(i,j)\n",
    "    return S\n",
    "def Variance1(tableau):\n",
    "    V=0\n",
    "    for j in range(5):\n",
    "        V=V+Var1(j)\n",
    "    return V"
   ]
  },
  {
   "cell_type": "code",
   "execution_count": 36,
   "metadata": {},
   "outputs": [
    {
     "data": {
      "text/plain": [
       "1807.9348402577016"
      ]
     },
     "execution_count": 36,
     "metadata": {},
     "output_type": "execute_result"
    }
   ],
   "source": [
    "Variance1(T3)"
   ]
  },
  {
   "cell_type": "markdown",
   "metadata": {},
   "source": [
    "<blockquote style=\"background-color:SkyBlue\">Troisième étape : Calcul des centroides(2)"
   ]
  },
  {
   "cell_type": "code",
   "execution_count": 37,
   "metadata": {
    "collapsed": true
   },
   "outputs": [],
   "source": [
    "TC01=T3.query(\"cluster1==0\")\n",
    "moy01=TC01.mean()\n",
    "TC11=T3.query(\"cluster1==1\")\n",
    "moy11=TC11.mean()\n",
    "TC21=T3.query(\"cluster1==2\")\n",
    "moy21=TC21.mean()\n",
    "TC31=T3.query(\"cluster1==3\")\n",
    "moy31=TC31.mean()\n",
    "TC41=T3.query(\"cluster1==4\")\n",
    "moy41=TC41.mean()"
   ]
  },
  {
   "cell_type": "code",
   "execution_count": 38,
   "metadata": {},
   "outputs": [
    {
     "data": {
      "text/plain": [
       "array([[ 0.75443891,  0.22267538,  0.47639838,  0.27694173, -0.26824966,\n",
       "         0.77904862],\n",
       "       [-1.28096415, -0.25486748, -0.27880417, -0.02896837, -0.01049753,\n",
       "         0.78676579],\n",
       "       [-0.13038993, -0.94950477, -0.41478371, -0.30487681,  1.8519956 ,\n",
       "        -1.06411232],\n",
       "       [-0.59738741, -0.18569124, -0.00732105,  0.07090287, -0.71957136,\n",
       "        -0.31577365],\n",
       "       [ 0.46288107,  0.67768404, -0.33588332, -0.34295472,  0.16683165,\n",
       "        -0.74592661]])"
      ]
     },
     "execution_count": 38,
     "metadata": {},
     "output_type": "execute_result"
    }
   ],
   "source": [
    "C1=np.array([[moy01[i]for i in range(6)],[moy11[i]for i in range(6)],[moy21[i]for i in range(6)],[moy31[i]for i in range(6)],[moy41[i]for i in range(6)]])\n",
    "C1"
   ]
  },
  {
   "cell_type": "code",
   "execution_count": 39,
   "metadata": {},
   "outputs": [
    {
     "data": {
      "text/html": [
       "<div>\n",
       "<style>\n",
       "    .dataframe thead tr:only-child th {\n",
       "        text-align: right;\n",
       "    }\n",
       "\n",
       "    .dataframe thead th {\n",
       "        text-align: left;\n",
       "    }\n",
       "\n",
       "    .dataframe tbody tr th {\n",
       "        vertical-align: top;\n",
       "    }\n",
       "</style>\n",
       "<table border=\"1\" class=\"dataframe\">\n",
       "  <thead>\n",
       "    <tr style=\"text-align: right;\">\n",
       "      <th></th>\n",
       "      <th>TEMPE</th>\n",
       "      <th>RMH2O</th>\n",
       "      <th>NO2</th>\n",
       "      <th>NO</th>\n",
       "      <th>VentMOD</th>\n",
       "      <th>VentANG</th>\n",
       "    </tr>\n",
       "  </thead>\n",
       "  <tbody>\n",
       "    <tr>\n",
       "      <th>0</th>\n",
       "      <td>0.754439</td>\n",
       "      <td>0.222675</td>\n",
       "      <td>0.476398</td>\n",
       "      <td>0.276942</td>\n",
       "      <td>-0.268250</td>\n",
       "      <td>0.779049</td>\n",
       "    </tr>\n",
       "    <tr>\n",
       "      <th>1</th>\n",
       "      <td>-1.280964</td>\n",
       "      <td>-0.254867</td>\n",
       "      <td>-0.278804</td>\n",
       "      <td>-0.028968</td>\n",
       "      <td>-0.010498</td>\n",
       "      <td>0.786766</td>\n",
       "    </tr>\n",
       "    <tr>\n",
       "      <th>2</th>\n",
       "      <td>-0.130390</td>\n",
       "      <td>-0.949505</td>\n",
       "      <td>-0.414784</td>\n",
       "      <td>-0.304877</td>\n",
       "      <td>1.851996</td>\n",
       "      <td>-1.064112</td>\n",
       "    </tr>\n",
       "    <tr>\n",
       "      <th>3</th>\n",
       "      <td>-0.597387</td>\n",
       "      <td>-0.185691</td>\n",
       "      <td>-0.007321</td>\n",
       "      <td>0.070903</td>\n",
       "      <td>-0.719571</td>\n",
       "      <td>-0.315774</td>\n",
       "    </tr>\n",
       "    <tr>\n",
       "      <th>4</th>\n",
       "      <td>0.462881</td>\n",
       "      <td>0.677684</td>\n",
       "      <td>-0.335883</td>\n",
       "      <td>-0.342955</td>\n",
       "      <td>0.166832</td>\n",
       "      <td>-0.745927</td>\n",
       "    </tr>\n",
       "  </tbody>\n",
       "</table>\n",
       "</div>"
      ],
      "text/plain": [
       "      TEMPE     RMH2O       NO2        NO   VentMOD   VentANG\n",
       "0  0.754439  0.222675  0.476398  0.276942 -0.268250  0.779049\n",
       "1 -1.280964 -0.254867 -0.278804 -0.028968 -0.010498  0.786766\n",
       "2 -0.130390 -0.949505 -0.414784 -0.304877  1.851996 -1.064112\n",
       "3 -0.597387 -0.185691 -0.007321  0.070903 -0.719571 -0.315774\n",
       "4  0.462881  0.677684 -0.335883 -0.342955  0.166832 -0.745927"
      ]
     },
     "execution_count": 39,
     "metadata": {},
     "output_type": "execute_result"
    }
   ],
   "source": [
    "N2=pa.DataFrame(C1,index=range(5),columns=L)\n",
    "N2"
   ]
  },
  {
   "cell_type": "markdown",
   "metadata": {
    "collapsed": true
   },
   "source": [
    "<blockquote style=\"background-color:SkyBlue\">On réaffecte les données par rapport aux centroides(2)"
   ]
  },
  {
   "cell_type": "code",
   "execution_count": 40,
   "metadata": {
    "collapsed": true
   },
   "outputs": [],
   "source": [
    "#Pour chaque élément, on calcule la distance aux différents centroides\n",
    "def discentroide2(i,j):\n",
    "    return (sum ([(T3.at[i,a]-N2.at[j,a])**2 for a in L]))**0.5"
   ]
  },
  {
   "cell_type": "code",
   "execution_count": 41,
   "metadata": {
    "collapsed": true
   },
   "outputs": [],
   "source": [
    "def cluster2(tableau):\n",
    "    C2=[]\n",
    "    for i in range(len(tableau)):\n",
    "        d=[]\n",
    "        for j in range(5):\n",
    "            d.append((discentroide2(i,j),j))\n",
    "        m=min(d)\n",
    "        C2.append(m[1])\n",
    "    return C2"
   ]
  },
  {
   "cell_type": "code",
   "execution_count": 42,
   "metadata": {},
   "outputs": [
    {
     "data": {
      "text/html": [
       "<div>\n",
       "<style>\n",
       "    .dataframe thead tr:only-child th {\n",
       "        text-align: right;\n",
       "    }\n",
       "\n",
       "    .dataframe thead th {\n",
       "        text-align: left;\n",
       "    }\n",
       "\n",
       "    .dataframe tbody tr th {\n",
       "        vertical-align: top;\n",
       "    }\n",
       "</style>\n",
       "<table border=\"1\" class=\"dataframe\">\n",
       "  <thead>\n",
       "    <tr style=\"text-align: right;\">\n",
       "      <th></th>\n",
       "      <th>TEMPE</th>\n",
       "      <th>RMH2O</th>\n",
       "      <th>NO2</th>\n",
       "      <th>NO</th>\n",
       "      <th>VentMOD</th>\n",
       "      <th>VentANG</th>\n",
       "      <th>DepSeuil</th>\n",
       "      <th>cluster</th>\n",
       "      <th>cluster1</th>\n",
       "      <th>cluster2</th>\n",
       "    </tr>\n",
       "  </thead>\n",
       "  <tbody>\n",
       "    <tr>\n",
       "      <th>0</th>\n",
       "      <td>-0.456809</td>\n",
       "      <td>-0.477180</td>\n",
       "      <td>-0.470566</td>\n",
       "      <td>-0.276502</td>\n",
       "      <td>1.176311</td>\n",
       "      <td>-1.138817</td>\n",
       "      <td>False</td>\n",
       "      <td>4</td>\n",
       "      <td>2</td>\n",
       "      <td>2</td>\n",
       "    </tr>\n",
       "    <tr>\n",
       "      <th>1</th>\n",
       "      <td>-0.705972</td>\n",
       "      <td>-0.386063</td>\n",
       "      <td>-0.342206</td>\n",
       "      <td>-0.149751</td>\n",
       "      <td>0.688475</td>\n",
       "      <td>-0.300825</td>\n",
       "      <td>False</td>\n",
       "      <td>4</td>\n",
       "      <td>1</td>\n",
       "      <td>1</td>\n",
       "    </tr>\n",
       "    <tr>\n",
       "      <th>2</th>\n",
       "      <td>-1.242631</td>\n",
       "      <td>-0.198468</td>\n",
       "      <td>-0.456964</td>\n",
       "      <td>-0.225564</td>\n",
       "      <td>1.136073</td>\n",
       "      <td>-0.411458</td>\n",
       "      <td>False</td>\n",
       "      <td>1</td>\n",
       "      <td>1</td>\n",
       "      <td>2</td>\n",
       "    </tr>\n",
       "    <tr>\n",
       "      <th>3</th>\n",
       "      <td>-0.974302</td>\n",
       "      <td>-0.455740</td>\n",
       "      <td>-0.285569</td>\n",
       "      <td>0.051628</td>\n",
       "      <td>1.162494</td>\n",
       "      <td>-0.717604</td>\n",
       "      <td>False</td>\n",
       "      <td>4</td>\n",
       "      <td>2</td>\n",
       "      <td>2</td>\n",
       "    </tr>\n",
       "    <tr>\n",
       "      <th>4</th>\n",
       "      <td>-0.035148</td>\n",
       "      <td>-0.788050</td>\n",
       "      <td>-0.457953</td>\n",
       "      <td>-0.243333</td>\n",
       "      <td>0.645618</td>\n",
       "      <td>-0.820754</td>\n",
       "      <td>False</td>\n",
       "      <td>4</td>\n",
       "      <td>4</td>\n",
       "      <td>2</td>\n",
       "    </tr>\n",
       "  </tbody>\n",
       "</table>\n",
       "</div>"
      ],
      "text/plain": [
       "      TEMPE     RMH2O       NO2        NO   VentMOD   VentANG  DepSeuil  \\\n",
       "0 -0.456809 -0.477180 -0.470566 -0.276502  1.176311 -1.138817     False   \n",
       "1 -0.705972 -0.386063 -0.342206 -0.149751  0.688475 -0.300825     False   \n",
       "2 -1.242631 -0.198468 -0.456964 -0.225564  1.136073 -0.411458     False   \n",
       "3 -0.974302 -0.455740 -0.285569  0.051628  1.162494 -0.717604     False   \n",
       "4 -0.035148 -0.788050 -0.457953 -0.243333  0.645618 -0.820754     False   \n",
       "\n",
       "   cluster  cluster1  cluster2  \n",
       "0        4         2         2  \n",
       "1        4         1         1  \n",
       "2        1         1         2  \n",
       "3        4         2         2  \n",
       "4        4         4         2  "
      ]
     },
     "execution_count": 42,
     "metadata": {},
     "output_type": "execute_result"
    }
   ],
   "source": [
    "T3[\"cluster2\"]=cluster2(T3)\n",
    "T3.head()"
   ]
  },
  {
   "cell_type": "markdown",
   "metadata": {},
   "source": [
    "<blockquote style=\"background-color:SkyBlue\">Calcul de la variance par rapport aux centroides(2)"
   ]
  },
  {
   "cell_type": "code",
   "execution_count": 43,
   "metadata": {
    "collapsed": true
   },
   "outputs": [],
   "source": [
    "def Var2(j):\n",
    "    S=0\n",
    "    for i in range(len(T3)):\n",
    "        if T3.at[i,\"cluster2\"]==j:\n",
    "            S=S+discentroide2(i,j)\n",
    "    return S\n",
    "def Variance2(tableau):\n",
    "    V=0\n",
    "    for j in range(5):\n",
    "        V=V+Var2(j)\n",
    "    return V"
   ]
  },
  {
   "cell_type": "code",
   "execution_count": 44,
   "metadata": {},
   "outputs": [
    {
     "data": {
      "text/plain": [
       "1757.7855200847432"
      ]
     },
     "execution_count": 44,
     "metadata": {},
     "output_type": "execute_result"
    }
   ],
   "source": [
    "Variance2(T3)"
   ]
  },
  {
   "cell_type": "code",
   "execution_count": 45,
   "metadata": {},
   "outputs": [
    {
     "data": {
      "text/plain": [
       "(199, 102)"
      ]
     },
     "execution_count": 45,
     "metadata": {},
     "output_type": "execute_result"
    }
   ],
   "source": [
    "(a0,b0)=(len(T3.query('DepSeuil==False and cluster2==0')),len(T3.query('DepSeuil==True and cluster2==0')))\n",
    "(a0,b0)"
   ]
  },
  {
   "cell_type": "code",
   "execution_count": 46,
   "metadata": {},
   "outputs": [
    {
     "data": {
      "text/plain": [
       "(183, 2)"
      ]
     },
     "execution_count": 46,
     "metadata": {},
     "output_type": "execute_result"
    }
   ],
   "source": [
    "(a1,b1)=(len(T3.query('DepSeuil==False and cluster2==1')),len(T3.query('DepSeuil==True and cluster2==1')))\n",
    "(a1,b1)"
   ]
  },
  {
   "cell_type": "markdown",
   "metadata": {},
   "source": [
    "<blockquote style=\"background-color:SkyBlue\">Deuxième étape : Position par le calcul des centroides(3)\n"
   ]
  },
  {
   "cell_type": "code",
   "execution_count": 48,
   "metadata": {
    "collapsed": true
   },
   "outputs": [],
   "source": [
    "TC02=T3.query(\"cluster2==0\")\n",
    "moy02=TC02.mean()\n",
    "TC12=T3.query(\"cluster2==1\")\n",
    "moy12=TC12.mean()\n",
    "TC22=T3.query(\"cluster2==2\")\n",
    "moy22=TC22.mean()\n",
    "TC32=T3.query(\"cluster2==3\")\n",
    "moy32=TC32.mean()\n",
    "TC42=T3.query(\"cluster2==4\")\n",
    "moy42=TC42.mean()"
   ]
  },
  {
   "cell_type": "code",
   "execution_count": 51,
   "metadata": {},
   "outputs": [
    {
     "data": {
      "text/plain": [
       "array([[ 0.75245804,  0.28991762,  0.73009191,  0.51061202, -0.28867511,\n",
       "         0.76085111],\n",
       "       [-1.02061181, -0.25639799, -0.3836987 , -0.2140132 , -0.17622252,\n",
       "         0.84552887],\n",
       "       [-0.10287756, -0.92860086, -0.41146798, -0.29984098,  1.71813914,\n",
       "        -1.03446361],\n",
       "       [-0.63054589, -0.28418567, -0.08924095,  0.01368576, -0.68070563,\n",
       "        -0.43892742],\n",
       "       [ 0.50625689,  0.75108093, -0.33950832, -0.35182598,  0.00985249,\n",
       "        -0.69958253]])"
      ]
     },
     "execution_count": 51,
     "metadata": {},
     "output_type": "execute_result"
    }
   ],
   "source": [
    "C2=np.array([[moy02[i]for i in range(6)],[moy12[i]for i in range(6)],[moy22[i]for i in range(6)],[moy32[i]for i in range(6)],[moy42[i]for i in range(6)]])\n",
    "C2"
   ]
  },
  {
   "cell_type": "code",
   "execution_count": 52,
   "metadata": {},
   "outputs": [
    {
     "data": {
      "text/html": [
       "<div>\n",
       "<style>\n",
       "    .dataframe thead tr:only-child th {\n",
       "        text-align: right;\n",
       "    }\n",
       "\n",
       "    .dataframe thead th {\n",
       "        text-align: left;\n",
       "    }\n",
       "\n",
       "    .dataframe tbody tr th {\n",
       "        vertical-align: top;\n",
       "    }\n",
       "</style>\n",
       "<table border=\"1\" class=\"dataframe\">\n",
       "  <thead>\n",
       "    <tr style=\"text-align: right;\">\n",
       "      <th></th>\n",
       "      <th>TEMPE</th>\n",
       "      <th>RMH2O</th>\n",
       "      <th>NO2</th>\n",
       "      <th>NO</th>\n",
       "      <th>VentMOD</th>\n",
       "      <th>VentANG</th>\n",
       "    </tr>\n",
       "  </thead>\n",
       "  <tbody>\n",
       "    <tr>\n",
       "      <th>0</th>\n",
       "      <td>0.752458</td>\n",
       "      <td>0.289918</td>\n",
       "      <td>0.730092</td>\n",
       "      <td>0.510612</td>\n",
       "      <td>-0.288675</td>\n",
       "      <td>0.760851</td>\n",
       "    </tr>\n",
       "    <tr>\n",
       "      <th>1</th>\n",
       "      <td>-1.020612</td>\n",
       "      <td>-0.256398</td>\n",
       "      <td>-0.383699</td>\n",
       "      <td>-0.214013</td>\n",
       "      <td>-0.176223</td>\n",
       "      <td>0.845529</td>\n",
       "    </tr>\n",
       "    <tr>\n",
       "      <th>2</th>\n",
       "      <td>-0.102878</td>\n",
       "      <td>-0.928601</td>\n",
       "      <td>-0.411468</td>\n",
       "      <td>-0.299841</td>\n",
       "      <td>1.718139</td>\n",
       "      <td>-1.034464</td>\n",
       "    </tr>\n",
       "    <tr>\n",
       "      <th>3</th>\n",
       "      <td>-0.630546</td>\n",
       "      <td>-0.284186</td>\n",
       "      <td>-0.089241</td>\n",
       "      <td>0.013686</td>\n",
       "      <td>-0.680706</td>\n",
       "      <td>-0.438927</td>\n",
       "    </tr>\n",
       "    <tr>\n",
       "      <th>4</th>\n",
       "      <td>0.506257</td>\n",
       "      <td>0.751081</td>\n",
       "      <td>-0.339508</td>\n",
       "      <td>-0.351826</td>\n",
       "      <td>0.009852</td>\n",
       "      <td>-0.699583</td>\n",
       "    </tr>\n",
       "  </tbody>\n",
       "</table>\n",
       "</div>"
      ],
      "text/plain": [
       "      TEMPE     RMH2O       NO2        NO   VentMOD   VentANG\n",
       "0  0.752458  0.289918  0.730092  0.510612 -0.288675  0.760851\n",
       "1 -1.020612 -0.256398 -0.383699 -0.214013 -0.176223  0.845529\n",
       "2 -0.102878 -0.928601 -0.411468 -0.299841  1.718139 -1.034464\n",
       "3 -0.630546 -0.284186 -0.089241  0.013686 -0.680706 -0.438927\n",
       "4  0.506257  0.751081 -0.339508 -0.351826  0.009852 -0.699583"
      ]
     },
     "execution_count": 52,
     "metadata": {},
     "output_type": "execute_result"
    }
   ],
   "source": [
    "N3=pa.DataFrame(C2,index=range(5),columns=L)\n",
    "N3"
   ]
  },
  {
   "cell_type": "markdown",
   "metadata": {},
   "source": [
    "<blockquote style=\"background-color:SkyBlue\">On réaffecte les données par rapport aux centroides(3)"
   ]
  },
  {
   "cell_type": "code",
   "execution_count": 53,
   "metadata": {
    "collapsed": true
   },
   "outputs": [],
   "source": [
    "#Pour chaque élément, on calcule la distance aux différents centroides\n",
    "def discentroide3(i,j):\n",
    "    return (sum ([(T3.at[i,a]-N3.at[j,a])**2 for a in L]))**0.5"
   ]
  },
  {
   "cell_type": "code",
   "execution_count": 54,
   "metadata": {
    "collapsed": true
   },
   "outputs": [],
   "source": [
    "def cluster3(tableau):\n",
    "    C3=[]\n",
    "    for i in range(len(tableau)):\n",
    "        d=[]\n",
    "        for j in range(5):\n",
    "            d.append((discentroide3(i,j),j))\n",
    "        m=min(d)\n",
    "        C3.append(m[1])\n",
    "    return C3"
   ]
  },
  {
   "cell_type": "code",
   "execution_count": 55,
   "metadata": {},
   "outputs": [
    {
     "data": {
      "text/html": [
       "<div>\n",
       "<style>\n",
       "    .dataframe thead tr:only-child th {\n",
       "        text-align: right;\n",
       "    }\n",
       "\n",
       "    .dataframe thead th {\n",
       "        text-align: left;\n",
       "    }\n",
       "\n",
       "    .dataframe tbody tr th {\n",
       "        vertical-align: top;\n",
       "    }\n",
       "</style>\n",
       "<table border=\"1\" class=\"dataframe\">\n",
       "  <thead>\n",
       "    <tr style=\"text-align: right;\">\n",
       "      <th></th>\n",
       "      <th>TEMPE</th>\n",
       "      <th>RMH2O</th>\n",
       "      <th>NO2</th>\n",
       "      <th>NO</th>\n",
       "      <th>VentMOD</th>\n",
       "      <th>VentANG</th>\n",
       "      <th>DepSeuil</th>\n",
       "      <th>cluster</th>\n",
       "      <th>cluster1</th>\n",
       "      <th>cluster2</th>\n",
       "      <th>cluster3</th>\n",
       "    </tr>\n",
       "  </thead>\n",
       "  <tbody>\n",
       "    <tr>\n",
       "      <th>0</th>\n",
       "      <td>-0.456809</td>\n",
       "      <td>-0.477180</td>\n",
       "      <td>-0.470566</td>\n",
       "      <td>-0.276502</td>\n",
       "      <td>1.176311</td>\n",
       "      <td>-1.138817</td>\n",
       "      <td>False</td>\n",
       "      <td>4</td>\n",
       "      <td>2</td>\n",
       "      <td>2</td>\n",
       "      <td>2</td>\n",
       "    </tr>\n",
       "    <tr>\n",
       "      <th>1</th>\n",
       "      <td>-0.705972</td>\n",
       "      <td>-0.386063</td>\n",
       "      <td>-0.342206</td>\n",
       "      <td>-0.149751</td>\n",
       "      <td>0.688475</td>\n",
       "      <td>-0.300825</td>\n",
       "      <td>False</td>\n",
       "      <td>4</td>\n",
       "      <td>1</td>\n",
       "      <td>1</td>\n",
       "      <td>3</td>\n",
       "    </tr>\n",
       "    <tr>\n",
       "      <th>2</th>\n",
       "      <td>-1.242631</td>\n",
       "      <td>-0.198468</td>\n",
       "      <td>-0.456964</td>\n",
       "      <td>-0.225564</td>\n",
       "      <td>1.136073</td>\n",
       "      <td>-0.411458</td>\n",
       "      <td>False</td>\n",
       "      <td>1</td>\n",
       "      <td>1</td>\n",
       "      <td>2</td>\n",
       "      <td>2</td>\n",
       "    </tr>\n",
       "    <tr>\n",
       "      <th>3</th>\n",
       "      <td>-0.974302</td>\n",
       "      <td>-0.455740</td>\n",
       "      <td>-0.285569</td>\n",
       "      <td>0.051628</td>\n",
       "      <td>1.162494</td>\n",
       "      <td>-0.717604</td>\n",
       "      <td>False</td>\n",
       "      <td>4</td>\n",
       "      <td>2</td>\n",
       "      <td>2</td>\n",
       "      <td>2</td>\n",
       "    </tr>\n",
       "    <tr>\n",
       "      <th>4</th>\n",
       "      <td>-0.035148</td>\n",
       "      <td>-0.788050</td>\n",
       "      <td>-0.457953</td>\n",
       "      <td>-0.243333</td>\n",
       "      <td>0.645618</td>\n",
       "      <td>-0.820754</td>\n",
       "      <td>False</td>\n",
       "      <td>4</td>\n",
       "      <td>4</td>\n",
       "      <td>2</td>\n",
       "      <td>2</td>\n",
       "    </tr>\n",
       "  </tbody>\n",
       "</table>\n",
       "</div>"
      ],
      "text/plain": [
       "      TEMPE     RMH2O       NO2        NO   VentMOD   VentANG  DepSeuil  \\\n",
       "0 -0.456809 -0.477180 -0.470566 -0.276502  1.176311 -1.138817     False   \n",
       "1 -0.705972 -0.386063 -0.342206 -0.149751  0.688475 -0.300825     False   \n",
       "2 -1.242631 -0.198468 -0.456964 -0.225564  1.136073 -0.411458     False   \n",
       "3 -0.974302 -0.455740 -0.285569  0.051628  1.162494 -0.717604     False   \n",
       "4 -0.035148 -0.788050 -0.457953 -0.243333  0.645618 -0.820754     False   \n",
       "\n",
       "   cluster  cluster1  cluster2  cluster3  \n",
       "0        4         2         2         2  \n",
       "1        4         1         1         3  \n",
       "2        1         1         2         2  \n",
       "3        4         2         2         2  \n",
       "4        4         4         2         2  "
      ]
     },
     "execution_count": 55,
     "metadata": {},
     "output_type": "execute_result"
    }
   ],
   "source": [
    "T3[\"cluster3\"]=cluster3(T3)\n",
    "T3.head()"
   ]
  },
  {
   "cell_type": "markdown",
   "metadata": {},
   "source": [
    "<blockquote style=\"background-color:SkyBlue\">Calcul de la variance par rapport aux centroides(3)"
   ]
  },
  {
   "cell_type": "code",
   "execution_count": 57,
   "metadata": {
    "collapsed": true
   },
   "outputs": [],
   "source": [
    "def Var3(j):\n",
    "    S=0\n",
    "    for i in range(len(T3)):\n",
    "        if T3.at[i,\"cluster3\"]==j:\n",
    "            S=S+discentroide3(i,j)\n",
    "    return S\n",
    "def Variance3(tableau):\n",
    "    V=0\n",
    "    for j in range(5):\n",
    "        V=V+Var3(j)\n",
    "    return V"
   ]
  },
  {
   "cell_type": "code",
   "execution_count": 58,
   "metadata": {},
   "outputs": [
    {
     "data": {
      "text/plain": [
       "1730.4484155245225"
      ]
     },
     "execution_count": 58,
     "metadata": {},
     "output_type": "execute_result"
    }
   ],
   "source": [
    "Variance3(T3)"
   ]
  },
  {
   "cell_type": "code",
   "execution_count": 60,
   "metadata": {},
   "outputs": [
    {
     "data": {
      "text/html": [
       "<div>\n",
       "<style>\n",
       "    .dataframe thead tr:only-child th {\n",
       "        text-align: right;\n",
       "    }\n",
       "\n",
       "    .dataframe thead th {\n",
       "        text-align: left;\n",
       "    }\n",
       "\n",
       "    .dataframe tbody tr th {\n",
       "        vertical-align: top;\n",
       "    }\n",
       "</style>\n",
       "<table border=\"1\" class=\"dataframe\">\n",
       "  <thead>\n",
       "    <tr style=\"text-align: right;\">\n",
       "      <th>cluster3</th>\n",
       "      <th>0</th>\n",
       "      <th>1</th>\n",
       "      <th>2</th>\n",
       "      <th>3</th>\n",
       "      <th>4</th>\n",
       "      <th>All</th>\n",
       "    </tr>\n",
       "    <tr>\n",
       "      <th>DepSeuil</th>\n",
       "      <th></th>\n",
       "      <th></th>\n",
       "      <th></th>\n",
       "      <th></th>\n",
       "      <th></th>\n",
       "      <th></th>\n",
       "    </tr>\n",
       "  </thead>\n",
       "  <tbody>\n",
       "    <tr>\n",
       "      <th>False</th>\n",
       "      <td>165</td>\n",
       "      <td>228</td>\n",
       "      <td>154</td>\n",
       "      <td>173</td>\n",
       "      <td>143</td>\n",
       "      <td>863</td>\n",
       "    </tr>\n",
       "    <tr>\n",
       "      <th>True</th>\n",
       "      <td>90</td>\n",
       "      <td>9</td>\n",
       "      <td>2</td>\n",
       "      <td>8</td>\n",
       "      <td>69</td>\n",
       "      <td>178</td>\n",
       "    </tr>\n",
       "    <tr>\n",
       "      <th>All</th>\n",
       "      <td>255</td>\n",
       "      <td>237</td>\n",
       "      <td>156</td>\n",
       "      <td>181</td>\n",
       "      <td>212</td>\n",
       "      <td>1041</td>\n",
       "    </tr>\n",
       "  </tbody>\n",
       "</table>\n",
       "</div>"
      ],
      "text/plain": [
       "cluster3    0    1    2    3    4   All\n",
       "DepSeuil                               \n",
       "False     165  228  154  173  143   863\n",
       "True       90    9    2    8   69   178\n",
       "All       255  237  156  181  212  1041"
      ]
     },
     "execution_count": 60,
     "metadata": {},
     "output_type": "execute_result"
    }
   ],
   "source": [
    "pa.crosstab(T3['DepSeuil'],T3['cluster3'],margins=True)"
   ]
  },
  {
   "cell_type": "code",
   "execution_count": null,
   "metadata": {
    "collapsed": true
   },
   "outputs": [],
   "source": []
  }
 ],
 "metadata": {
  "kernelspec": {
   "display_name": "Python 3",
   "language": "python",
   "name": "python3"
  },
  "language_info": {
   "codemirror_mode": {
    "name": "ipython",
    "version": 3
   },
   "file_extension": ".py",
   "mimetype": "text/x-python",
   "name": "python",
   "nbconvert_exporter": "python",
   "pygments_lexer": "ipython3",
   "version": "3.6.3"
  }
 },
 "nbformat": 4,
 "nbformat_minor": 2
}
